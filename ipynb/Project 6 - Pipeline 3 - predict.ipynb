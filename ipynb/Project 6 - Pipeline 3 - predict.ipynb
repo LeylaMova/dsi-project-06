{
 "cells": [
  {
   "cell_type": "code",
   "execution_count": 1,
   "metadata": {
    "collapsed": true
   },
   "outputs": [],
   "source": [
    "import os\n",
    "os.chdir('../')"
   ]
  },
  {
   "cell_type": "code",
   "execution_count": 2,
   "metadata": {
    "collapsed": false
   },
   "outputs": [],
   "source": [
    "from lib.predict import predict"
   ]
  },
  {
   "cell_type": "code",
   "execution_count": 3,
   "metadata": {
    "collapsed": true
   },
   "outputs": [],
   "source": [
    "doc = \"\"\"While seasonal influenza (flu) viruses can be detected year-round in the United States, flu viruses are most common during the fall and winter. The exact timing and duration of flu seasons can vary, but influenza activity often begins to increase in October. Most of the time flu activity peaks between December and February, although activity can last as late as May.\n",
    "\n",
    "The figure below shows peak flu activity for the United States by month for the 1982-1983 through 2015-2016 flu seasons. The “peak month of flu activity” is the month with the highest percentage of respiratory specimens testing positive for influenza virus infection during that influenza season. During this 34-year period, flu activity most often peaked in February (14 seasons), followed by December (7 seasons), March (6 seasons), and January (5 seasons).\"\"\""
   ]
  },
  {
   "cell_type": "code",
   "execution_count": 4,
   "metadata": {
    "collapsed": false
   },
   "outputs": [
    {
     "name": "stdout",
     "output_type": "stream",
     "text": [
      "Predict Category: influenza\n",
      "Confidence: 1.0\n"
     ]
    }
   ],
   "source": [
    "predict(doc)"
   ]
  },
  {
   "cell_type": "code",
   "execution_count": null,
   "metadata": {
    "collapsed": true
   },
   "outputs": [],
   "source": []
  }
 ],
 "metadata": {
  "anaconda-cloud": {},
  "kernelspec": {
   "display_name": "Python [conda root]",
   "language": "python",
   "name": "conda-root-py"
  },
  "language_info": {
   "codemirror_mode": {
    "name": "ipython",
    "version": 2
   },
   "file_extension": ".py",
   "mimetype": "text/x-python",
   "name": "python",
   "nbconvert_exporter": "python",
   "pygments_lexer": "ipython2",
   "version": "2.7.12"
  }
 },
 "nbformat": 4,
 "nbformat_minor": 1
}
