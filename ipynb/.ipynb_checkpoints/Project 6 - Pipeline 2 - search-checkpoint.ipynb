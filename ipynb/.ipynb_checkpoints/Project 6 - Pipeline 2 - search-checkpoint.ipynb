{
 "cells": [
  {
   "cell_type": "markdown",
   "metadata": {},
   "source": [
    "# Project 6 - Pipleline 2 - search"
   ]
  },
  {
   "cell_type": "markdown",
   "metadata": {},
   "source": [
    "## Parse: Encode search as document vector"
   ]
  },
  {
   "cell_type": "code",
   "execution_count": 3,
   "metadata": {
    "collapsed": false
   },
   "outputs": [],
   "source": [
    "import os\n",
    "os.chdir('../')"
   ]
  },
  {
   "cell_type": "code",
   "execution_count": 2,
   "metadata": {
    "collapsed": true
   },
   "outputs": [],
   "source": [
    "import pandas as pd\n",
    "from sklearn.externals import joblib\n",
    "from sklearn.neighbors import NearestNeighbors\n",
    "from sklearn.feature_extraction.text import TfidfVectorizer\n",
    "from sklearn.decomposition import TruncatedSVD\n",
    "from sklearn.preprocessing import Normalizer\n",
    "from sklearn.pipeline import Pipeline"
   ]
  },
  {
   "cell_type": "code",
   "execution_count": 4,
   "metadata": {
    "collapsed": true
   },
   "outputs": [],
   "source": [
    "df = pd.read_pickle('data/df.pkl')\n",
    "X = df['page']\n",
    "y = df['category_name']"
   ]
  },
  {
   "cell_type": "markdown",
   "metadata": {},
   "source": [
    "## Mine: Select document vectors for all pages from database"
   ]
  },
  {
   "cell_type": "code",
   "execution_count": 3,
   "metadata": {
    "collapsed": false
   },
   "outputs": [],
   "source": [
    "lsa = Pipeline([('vectorizer', TfidfVectorizer(stop_words='english')),\n",
    "                ('normalize', Normalizer(copy=False)),\n",
    "                ('svd', TruncatedSVD(n_components=500,n_iter=10,random_state=42))])"
   ]
  },
  {
   "cell_type": "code",
   "execution_count": 5,
   "metadata": {
    "collapsed": false
   },
   "outputs": [],
   "source": [
    "vecs = lsa.fit_transform(X)"
   ]
  },
  {
   "cell_type": "code",
   "execution_count": 6,
   "metadata": {
    "collapsed": false
   },
   "outputs": [
    {
     "data": {
      "text/plain": [
       "['data/vecs.pkl']"
      ]
     },
     "execution_count": 6,
     "metadata": {},
     "output_type": "execute_result"
    }
   ],
   "source": [
    "joblib.dump(vecs, 'data/vecs.pkl') "
   ]
  },
  {
   "cell_type": "code",
   "execution_count": 7,
   "metadata": {
    "collapsed": false
   },
   "outputs": [
    {
     "data": {
      "text/plain": [
       "['data/lsa.pkl']"
      ]
     },
     "execution_count": 7,
     "metadata": {},
     "output_type": "execute_result"
    }
   ],
   "source": [
    "joblib.dump(lsa, 'data/lsa.pkl') "
   ]
  },
  {
   "cell_type": "code",
   "execution_count": 8,
   "metadata": {
    "collapsed": false
   },
   "outputs": [],
   "source": [
    "terms = [\"porsche engine size\"]\n",
    "search = lsa.transform(terms)[0]\n",
    "highlight_terms = terms[0].split()"
   ]
  },
  {
   "cell_type": "code",
   "execution_count": 9,
   "metadata": {
    "collapsed": true
   },
   "outputs": [],
   "source": [
    "nbrs = NearestNeighbors(n_neighbors=5).fit(vecs)\n",
    "indecies = nbrs.kneighbors(search.reshape(1, -1))[1][0].tolist()"
   ]
  },
  {
   "cell_type": "markdown",
   "metadata": {},
   "source": [
    "## Model: Find five most similar documents based on document vectors"
   ]
  },
  {
   "cell_type": "code",
   "execution_count": 10,
   "metadata": {
    "collapsed": false
   },
   "outputs": [
    {
     "name": "stdout",
     "output_type": "stream",
     "text": [
      "Porsche 912\n",
      "the porsche 912 is a sports car manufactured by porsche of germany between 1965 and 1969 as their entrylevel model a variant of the type 911 one of the most famous and successful sports cars of all time the 912 is a nimblehandling compact performance 22 delivering 90 sae horsepower at 5800 rpm it is\n",
      "\n",
      "Porsche 914\n",
      "the porsche 914 or vwporsche 914 was a midengined targatopped twoseat roadster designed manufactured and marketed collaboratively by volkswagen and porsche from 1969 to 1976 history development by the late 1960s both volkswagen and porsche were in need of new models porsche was looking for a replace\n",
      "\n",
      "Porsche 914-6 GT\n",
      "the porsche 9146 gt was a race car built by porsche based on the 914 model with a 6cylinder engine and gt package history the 9146 gt was a race configured version of the 9146 the factory offered the gt option which was distinguishable by its boxlike steel fender flares it quickly became known as th\n",
      "\n",
      "Porsche 930\n",
      "the porsche 930 is a sports car built by porsche between 1975 and 1989 known to the public as the 911 turbo it was the makers topoftherange 911 model for its entire production duration and at the time of its introduction the fastest production car available in germany model history porsche began exp\n",
      "\n",
      "Porsche 908\n",
      "the porsche 908 was a racing car from porsche introduced in 1968 to continue the porsche 906 porsche 910 porsche 907 series of models designed under ferdinand piech as the fia had announced rule changes for group 6 prototypesports cars limiting engine displacement to 3000 cc as in formula one porsch\n",
      "\n"
     ]
    }
   ],
   "source": [
    "for i in indecies:\n",
    "    print df.iloc[i]['title']\n",
    "    print df.iloc[i]['page'][:300]\n",
    "    print"
   ]
  },
  {
   "cell_type": "markdown",
   "metadata": {},
   "source": [
    "## Mine: Retrieve text for the five most similar documents"
   ]
  },
  {
   "cell_type": "code",
   "execution_count": 4,
   "metadata": {
    "collapsed": false
   },
   "outputs": [],
   "source": [
    "from lib.search import search_query"
   ]
  },
  {
   "cell_type": "code",
   "execution_count": 5,
   "metadata": {
    "collapsed": false
   },
   "outputs": [
    {
     "name": "stdout",
     "output_type": "stream",
     "text": [
      "Title: Google Flu Trends\n",
      "Summary: google flu trends was a web service operated by google it provided estimates of influenza activity for more than 25 countries by aggregating google search queries it attempted to make accurate predictions about flu activity this project was first launched in 2008 by googleorg to help predict outbrea\n",
      "\n",
      "Title: Oscillococcinum\n",
      "Summary: oscillococcinum or oscillo is a homeopathic preparation marketed to relieve influenzalike symptoms it does not provide any benefit beyond that of sugar pills it is a popular preparation particularly in france it is manufactured by boiron its sole manufacturer oscillococcinum is used in more than 50 \n",
      "\n",
      "Title: 2013-14 flu season\n",
      "Summary: the 2013–14 flu season is an instance of flu season which is the time of year when people are most likely to contract influenza or any influenzalike illness health organizations recommend that persons wishing to avoid the flu get vaccinated and practice hand washing among other common responses to\n",
      "\n",
      "Title: 2012-13 flu season\n",
      "Summary: the 201213 flu season is an instance of flu season which is the time of year when people are most likely to contract influenza or any influenzalike illness health organizations recommend that persons wishing to avoid the flu get vaccinated and practice hand washing among other common responses to fl\n",
      "\n",
      "Title: Flu season\n",
      "Summary: flu season is an annually recurring time period characterized by the prevalence of outbreaks of influenza flu the season occurs during the cold half of the year in each hemisphere influenza activity can sometimes be predicted and even tracked geographically while the beginning of major flu activity \n",
      "\n"
     ]
    }
   ],
   "source": [
    "search_query(\"flu treatment symptoms\")"
   ]
  },
  {
   "cell_type": "markdown",
   "metadata": {},
   "source": [
    "## fetch page text"
   ]
  },
  {
   "cell_type": "code",
   "execution_count": 6,
   "metadata": {
    "collapsed": false
   },
   "outputs": [
    {
     "name": "stdout",
     "output_type": "stream",
     "text": [
      "Title: Google Flu Trends\n",
      "Text: google \u001b[43;30mflu\u001b[0m trends was a web service operated by google it provided estimates of influenza activity for more than 25 countries by aggregating google search queries it attempted to make accurate predictions about \u001b[43;30mflu\u001b[0m activity this project was first launched in 2008 by googleorg to help predict outbreaks of \u001b[43;30mflu\u001b[0m by today similar projects such as the \u001b[43;30mflu\u001b[0mprediction project by the institute of cognitive science osnabrück carry the basic idea forward by combining social media data eg twitter with cdc data and structural models that infer the spatial and temporal spreading of the disease google \u001b[43;30mflu\u001b[0m trends is now no longer publishing current estimates historical estimates are still available for download and current data are offered for declared research purposes introduction the idea behind google \u001b[43;30mflu\u001b[0m trends gft is that by monitoring millions of users’ health tracking behaviors online the large number of google search queries gathered can be analyzed to reveal if there is the presence of \u001b[43;30mflu\u001b[0mlike illness in a population google \u001b[43;30mflu\u001b[0m trends compared these findings to a historic baseline level of influenza activity for its corresponding region and then reports the activity level as either minimal low moderate high or intense these estimates have been generally consistent with conventional surveillance data collected by health agencies both nationally and regionally roni zeiger helped develop google \u001b[43;30mflu\u001b[0m trends methods google \u001b[43;30mflu\u001b[0m trends was described as using the following method to gather information about \u001b[43;30mflu\u001b[0m trends first a time series is computed for about 50 million common queries entered weekly within the united states from 2003 to 2008 a querys time series is computed separately for each state and normalized into a fraction by dividing the number of each query by the number of all queries in that state by identifying the ip address associated with each search the state in which this query was entered can be determined a linear model is used to compute the logodds of influenzalike illness ili physician visit and the logodds of ilirelated search query logit ⁡  p   β 0  β 1 × logit ⁡  q   ϵ displaystyle operatorname logit pbeta 0beta 1times operatorname logit qepsilon  p is the percentage of ili physician visit and q is the ilirelated query fraction computed in previous steps β0 is the intercept and β1 is the coefficient while ε is the error term each of the 50 million queries is tested as q to see if the result computed from a single query could match the actual history ili data obtained from the us centers for disease control and prevention cdc this process produces a list of top queries which gives the most accurate predictions of cdc ili data when using the linear model then the top 45 queries are chosen because when aggregated together these queries fit the history data the most accurately using the sum of top 45 ilirelated queries the linear model is fitted to the weekly ili data between 2003 and 2007 so that the coefficient can be gained finally the trained model is used to predict \u001b[43;30mflu\u001b[0m outbreak across all regions in the united states this algorithm has been subsequently revised by google partially in response to concerns about accuracy and attempts to replicate its results have suggested that the algorithm developers felt an unarticulated need to cloak the actual search terms identified privacy concerns google \u001b[43;30mflu\u001b[0m trends tries to avoid privacy violations by only aggregating millions of anonymous search queries without identifying individuals that performed the search their search log contains the ip address of the user which could be used to trace back to the region where the search query is originally submitted google runs programs on computers to access and calculate the data so no human is involved in the process google also implemented the policy to anonymize ip address in their search logs after 9 months however google \u001b[43;30mflu\u001b[0m trends has raised privacy concerns among some privacy groups electronic privacy information center and patient privacy rights sent a letter to eric schmidt in 2008 then the ceo of google they conceded that the use of usergenerated data could support public health effort in significant ways but expressed their worries that userspecific investigations could be compelled even over googles objection by court order or presidential authority impact an initial motivation for gft was that being able to identify disease activity early and respond quickly could reduce the impact of seasonal and pandemic influenza one report was that google \u001b[43;30mflu\u001b[0m trends was able to predict regional outbreaks of \u001b[43;30mflu\u001b[0m up to 10 days before they were reported by the cdc centers for disease control and prevention in the 2009 \u001b[43;30mflu\u001b[0m pandemic google \u001b[43;30mflu\u001b[0m trends tracked information about \u001b[43;30mflu\u001b[0m in the united states in february 2010 the cdc identified influenza cases spiking in the midatlantic region of the united states however google’s data of search queries about \u001b[43;30mflu\u001b[0m \u001b[43;30msymptoms\u001b[0m was able to show that same spike two weeks prior to the cdc report being released “the earlier the warning the earlier prevention and control measures can be put in place and this could prevent cases of influenza” said dr lyn finelli lead for surveillance at the influenza division of the cdc “from 5 to 20 percent of the nation’s population contract the \u001b[43;30mflu\u001b[0m each year leading to roughly 36000 deaths on average” google \u001b[43;30mflu\u001b[0m trends is an example of collective intelligence that can be used to identify trends and calculate predictions the data amassed by search engines is significantly insightful because the search queries represent people’s unfiltered wants and needs “this seems like a really clever way of using data that is created unintentionally by the users of google to see patterns in the world that would otherwise be invisible” said thomas w malone a professor at the sloan school of management at mit “i think we are just scratching the surface of what’s possible with collective intelligence” accuracy the initial google paper stated that the google \u001b[43;30mflu\u001b[0m trends predictions were 97 accurate comparing with cdc data however subsequent reports asserted that google \u001b[43;30mflu\u001b[0m trends predictions have sometimes been very inaccurate—especially over the interval 20112013 when it consistently overestimated \u001b[43;30mflu\u001b[0m prevalence and over one interval in the 20122013 \u001b[43;30mflu\u001b[0m season predicted twice as many doctors visits as the cdc recorded one source of problems is that people making \u001b[43;30mflu\u001b[0mrelated google searches may know very little about how to diagnose \u001b[43;30mflu\u001b[0m searches for \u001b[43;30mflu\u001b[0m or \u001b[43;30mflu\u001b[0m \u001b[43;30msymptoms\u001b[0m may well be researching disease \u001b[43;30msymptoms\u001b[0m that are similar to \u001b[43;30mflu\u001b[0m but are not actually \u001b[43;30mflu\u001b[0m furthermore analysis of search terms reportedly tracked by google such as fever and cough as well as effects of changes in their search algorithm over time have raised concerns about the meaning of its predictions in fall 2013 google began attempting to compensate for increases in searches due to prominence of \u001b[43;30mflu\u001b[0m in the news which was found to have previously skewed results however one analysis concluded that by combining gft and lagged cdc data as well as dynamically recalibrating gft we can substantially improve on the performance of gft or the cdc alone a later study also demonstrates that google search data can indeed be used to improve estimates reducing the errors seen in a model using cdc data alone by up to 527 per cent by reassessing the original gft model researchers uncovered that the model was aggregating queries about different health conditions something that could lead to an overprediction of ili rates in the same work a series of more advanced linear and nonlinear betterperforming approaches to ili modelling have been proposed references\n"
     ]
    }
   ],
   "source": [
    "search_query(\"flu treatment symptoms\",top=False)"
   ]
  }
 ],
 "metadata": {
  "anaconda-cloud": {},
  "kernelspec": {
   "display_name": "Python [conda root]",
   "language": "python",
   "name": "conda-root-py"
  },
  "language_info": {
   "codemirror_mode": {
    "name": "ipython",
    "version": 2
   },
   "file_extension": ".py",
   "mimetype": "text/x-python",
   "name": "python",
   "nbconvert_exporter": "python",
   "pygments_lexer": "ipython2",
   "version": "2.7.12"
  }
 },
 "nbformat": 4,
 "nbformat_minor": 1
}
